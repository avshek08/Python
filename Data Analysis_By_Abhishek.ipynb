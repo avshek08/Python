{
 "cells": [
  {
   "cell_type": "code",
   "execution_count": 229,
   "id": "850d43f1",
   "metadata": {},
   "outputs": [],
   "source": [
    "import pandas as pd\n",
    "import seaborn as sy"
   ]
  },
  {
   "cell_type": "code",
   "execution_count": 445,
   "id": "b2410eb5",
   "metadata": {},
   "outputs": [
    {
     "data": {
      "text/html": [
       "<div>\n",
       "<style scoped>\n",
       "    .dataframe tbody tr th:only-of-type {\n",
       "        vertical-align: middle;\n",
       "    }\n",
       "\n",
       "    .dataframe tbody tr th {\n",
       "        vertical-align: top;\n",
       "    }\n",
       "\n",
       "    .dataframe thead th {\n",
       "        text-align: right;\n",
       "    }\n",
       "</style>\n",
       "<table border=\"1\" class=\"dataframe\">\n",
       "  <thead>\n",
       "    <tr style=\"text-align: right;\">\n",
       "      <th></th>\n",
       "      <th>Election Year</th>\n",
       "      <th>Position</th>\n",
       "      <th>Name</th>\n",
       "      <th>Votes</th>\n",
       "      <th>Votes %</th>\n",
       "      <th>Party</th>\n",
       "      <th>AC name</th>\n",
       "      <th>AC No</th>\n",
       "    </tr>\n",
       "  </thead>\n",
       "  <tbody>\n",
       "    <tr>\n",
       "      <th>0</th>\n",
       "      <td>2010</td>\n",
       "      <td>1</td>\n",
       "      <td>Rajesh Singh</td>\n",
       "      <td>42289</td>\n",
       "      <td>29.40%</td>\n",
       "      <td>Janata Dal (United)</td>\n",
       "      <td>Valmiki Nagar</td>\n",
       "      <td>1</td>\n",
       "    </tr>\n",
       "    <tr>\n",
       "      <th>1</th>\n",
       "      <td>2010</td>\n",
       "      <td>2</td>\n",
       "      <td>Mukesh Kumar Kushwaha</td>\n",
       "      <td>27618</td>\n",
       "      <td>19.20%</td>\n",
       "      <td>Rashtriya Janata Dal</td>\n",
       "      <td>Valmiki Nagar</td>\n",
       "      <td>1</td>\n",
       "    </tr>\n",
       "    <tr>\n",
       "      <th>2</th>\n",
       "      <td>2010</td>\n",
       "      <td>3</td>\n",
       "      <td>Dheerendra Pratap Singh</td>\n",
       "      <td>20886</td>\n",
       "      <td>14.50%</td>\n",
       "      <td>Bahujan Samaj Party</td>\n",
       "      <td>Valmiki Nagar</td>\n",
       "      <td>1</td>\n",
       "    </tr>\n",
       "    <tr>\n",
       "      <th>3</th>\n",
       "      <td>2010</td>\n",
       "      <td>4</td>\n",
       "      <td>Irshad Hussain</td>\n",
       "      <td>17747</td>\n",
       "      <td>12.40%</td>\n",
       "      <td>Indian National Congress</td>\n",
       "      <td>Valmiki Nagar</td>\n",
       "      <td>1</td>\n",
       "    </tr>\n",
       "    <tr>\n",
       "      <th>4</th>\n",
       "      <td>2010</td>\n",
       "      <td>5</td>\n",
       "      <td>Deep Narayan Mahato</td>\n",
       "      <td>14047</td>\n",
       "      <td>9.80%</td>\n",
       "      <td>Independent</td>\n",
       "      <td>Valmiki Nagar</td>\n",
       "      <td>1</td>\n",
       "    </tr>\n",
       "  </tbody>\n",
       "</table>\n",
       "</div>"
      ],
      "text/plain": [
       "  Election Year  Position                     Name  Votes Votes %  \\\n",
       "0          2010         1             Rajesh Singh  42289  29.40%   \n",
       "1          2010         2    Mukesh Kumar Kushwaha  27618  19.20%   \n",
       "2          2010         3  Dheerendra Pratap Singh  20886  14.50%   \n",
       "3          2010         4           Irshad Hussain  17747  12.40%   \n",
       "4          2010         5      Deep Narayan Mahato  14047   9.80%   \n",
       "\n",
       "                      Party        AC name  AC No  \n",
       "0       Janata Dal (United)  Valmiki Nagar      1  \n",
       "1      Rashtriya Janata Dal  Valmiki Nagar      1  \n",
       "2       Bahujan Samaj Party  Valmiki Nagar      1  \n",
       "3  Indian National Congress  Valmiki Nagar      1  \n",
       "4               Independent  Valmiki Nagar      1  "
      ]
     },
     "execution_count": 445,
     "metadata": {},
     "output_type": "execute_result"
    }
   ],
   "source": [
    "#Loading Data\n",
    "df=pd.read_csv(\"Bihar_Election_Results .csv\")  \n",
    "df.head(5)"
   ]
  },
  {
   "cell_type": "code",
   "execution_count": 446,
   "id": "ed25821a",
   "metadata": {},
   "outputs": [
    {
     "data": {
      "text/plain": [
       "(12301, 8)"
      ]
     },
     "execution_count": 446,
     "metadata": {},
     "output_type": "execute_result"
    }
   ],
   "source": [
    "#Size of data\n",
    "\n",
    "df.shape"
   ]
  },
  {
   "cell_type": "code",
   "execution_count": 447,
   "id": "4fc266ad",
   "metadata": {},
   "outputs": [
    {
     "data": {
      "text/plain": [
       "Election Year    0\n",
       "Position         0\n",
       "Name             0\n",
       "Votes            0\n",
       "Votes %          0\n",
       "Party            0\n",
       "AC name          0\n",
       "AC No            0\n",
       "dtype: int64"
      ]
     },
     "execution_count": 447,
     "metadata": {},
     "output_type": "execute_result"
    }
   ],
   "source": [
    "# Checking Column by Null values\n",
    "\n",
    "df.isnull().sum()"
   ]
  },
  {
   "cell_type": "code",
   "execution_count": 448,
   "id": "ce738fd0",
   "metadata": {},
   "outputs": [
    {
     "name": "stdout",
     "output_type": "stream",
     "text": [
      "<class 'pandas.core.frame.DataFrame'>\n",
      "RangeIndex: 12301 entries, 0 to 12300\n",
      "Data columns (total 8 columns):\n",
      " #   Column         Non-Null Count  Dtype \n",
      "---  ------         --------------  ----- \n",
      " 0   Election Year  12301 non-null  object\n",
      " 1   Position       12301 non-null  int64 \n",
      " 2   Name           12301 non-null  object\n",
      " 3   Votes          12301 non-null  int64 \n",
      " 4   Votes %        12301 non-null  object\n",
      " 5   Party          12301 non-null  object\n",
      " 6   AC name        12301 non-null  object\n",
      " 7   AC No          12301 non-null  int64 \n",
      "dtypes: int64(3), object(5)\n",
      "memory usage: 768.9+ KB\n"
     ]
    }
   ],
   "source": [
    "# Data Cloumn type checking\n",
    "\n",
    "df.info()"
   ]
  },
  {
   "cell_type": "code",
   "execution_count": 449,
   "id": "c0a70083",
   "metadata": {},
   "outputs": [
    {
     "data": {
      "text/plain": [
       "array(['2010', '2015', '2005-Oct', '2005-Feb'], dtype=object)"
      ]
     },
     "execution_count": 449,
     "metadata": {},
     "output_type": "execute_result"
    }
   ],
   "source": [
    "# Checking How many times election held and also in which year. Well i'm not changing dtype object to date.\n",
    "df['Election Year'].unique()"
   ]
  },
  {
   "cell_type": "code",
   "execution_count": 291,
   "id": "ae48bf88",
   "metadata": {
    "scrolled": true
   },
   "outputs": [],
   "source": [
    "# Q.1(A).-a. Determine the winning party for every election at the state level. A party which has the highest total votes is considered the winner here.\n"
   ]
  },
  {
   "cell_type": "code",
   "execution_count": 480,
   "id": "157c83bb",
   "metadata": {},
   "outputs": [
    {
     "name": "stdout",
     "output_type": "stream",
     "text": [
      "For 2005-Feb Winning Part is\n"
     ]
    },
    {
     "data": {
      "text/html": [
       "<div>\n",
       "<style scoped>\n",
       "    .dataframe tbody tr th:only-of-type {\n",
       "        vertical-align: middle;\n",
       "    }\n",
       "\n",
       "    .dataframe tbody tr th {\n",
       "        vertical-align: top;\n",
       "    }\n",
       "\n",
       "    .dataframe thead th {\n",
       "        text-align: right;\n",
       "    }\n",
       "</style>\n",
       "<table border=\"1\" class=\"dataframe\">\n",
       "  <thead>\n",
       "    <tr style=\"text-align: right;\">\n",
       "      <th></th>\n",
       "      <th>Party</th>\n",
       "      <th>Votes</th>\n",
       "    </tr>\n",
       "  </thead>\n",
       "  <tbody>\n",
       "    <tr>\n",
       "      <th>50</th>\n",
       "      <td>Rashtriya Janata Dal</td>\n",
       "      <td>6140223</td>\n",
       "    </tr>\n",
       "  </tbody>\n",
       "</table>\n",
       "</div>"
      ],
      "text/plain": [
       "                   Party    Votes\n",
       "50  Rashtriya Janata Dal  6140223"
      ]
     },
     "execution_count": 480,
     "metadata": {},
     "output_type": "execute_result"
    }
   ],
   "source": [
    "# Election Result 2005-Feb\n",
    "\n",
    "df2=df.loc[df['Election Year'] == \"2005-Feb\"]\n",
    "x_2005_Feb=df2.groupby(['Party']).agg({'Votes': 'sum'}).reset_index()\n",
    "print('For 2005-Feb Winning Part is')\n",
    "x_2005_Feb[x_2005_Feb['Votes']==x_2005_Feb['Votes'].max()]"
   ]
  },
  {
   "cell_type": "code",
   "execution_count": 451,
   "id": "534a6a7f",
   "metadata": {},
   "outputs": [
    {
     "name": "stdout",
     "output_type": "stream",
     "text": [
      "For 2005-Oct Winning Part is\n"
     ]
    },
    {
     "data": {
      "text/html": [
       "<div>\n",
       "<style scoped>\n",
       "    .dataframe tbody tr th:only-of-type {\n",
       "        vertical-align: middle;\n",
       "    }\n",
       "\n",
       "    .dataframe tbody tr th {\n",
       "        vertical-align: top;\n",
       "    }\n",
       "\n",
       "    .dataframe thead th {\n",
       "        text-align: right;\n",
       "    }\n",
       "</style>\n",
       "<table border=\"1\" class=\"dataframe\">\n",
       "  <thead>\n",
       "    <tr style=\"text-align: right;\">\n",
       "      <th></th>\n",
       "      <th>Party</th>\n",
       "      <th>Votes</th>\n",
       "    </tr>\n",
       "  </thead>\n",
       "  <tbody>\n",
       "    <tr>\n",
       "      <th>45</th>\n",
       "      <td>Rashtriya Janata Dal</td>\n",
       "      <td>5525081</td>\n",
       "    </tr>\n",
       "  </tbody>\n",
       "</table>\n",
       "</div>"
      ],
      "text/plain": [
       "                   Party    Votes\n",
       "45  Rashtriya Janata Dal  5525081"
      ]
     },
     "execution_count": 451,
     "metadata": {},
     "output_type": "execute_result"
    }
   ],
   "source": [
    "# Election Result 2005-Oct\n",
    "\n",
    "df3=df.loc[df['Election Year'] == \"2005-Oct\"]\n",
    "x_2005_Oct=(df3.groupby(['Party']).agg({'Votes': 'sum'}).reset_index())\n",
    "print('For 2005-Oct Winning Part is')\n",
    "x_2005_Oct[x_2005_Oct['Votes']==x_2005_Oct['Votes'].max()]"
   ]
  },
  {
   "cell_type": "code",
   "execution_count": 452,
   "id": "2f0ce518",
   "metadata": {},
   "outputs": [
    {
     "name": "stdout",
     "output_type": "stream",
     "text": [
      "For 2010 Winning Part is\n"
     ]
    },
    {
     "data": {
      "text/html": [
       "<div>\n",
       "<style scoped>\n",
       "    .dataframe tbody tr th:only-of-type {\n",
       "        vertical-align: middle;\n",
       "    }\n",
       "\n",
       "    .dataframe tbody tr th {\n",
       "        vertical-align: top;\n",
       "    }\n",
       "\n",
       "    .dataframe thead th {\n",
       "        text-align: right;\n",
       "    }\n",
       "</style>\n",
       "<table border=\"1\" class=\"dataframe\">\n",
       "  <thead>\n",
       "    <tr style=\"text-align: right;\">\n",
       "      <th></th>\n",
       "      <th>Party</th>\n",
       "      <th>Votes</th>\n",
       "    </tr>\n",
       "  </thead>\n",
       "  <tbody>\n",
       "    <tr>\n",
       "      <th>43</th>\n",
       "      <td>Janata Dal (United)</td>\n",
       "      <td>6561906</td>\n",
       "    </tr>\n",
       "  </tbody>\n",
       "</table>\n",
       "</div>"
      ],
      "text/plain": [
       "                  Party    Votes\n",
       "43  Janata Dal (United)  6561906"
      ]
     },
     "execution_count": 452,
     "metadata": {},
     "output_type": "execute_result"
    }
   ],
   "source": [
    "# Election Result 2010\n",
    "\n",
    "df3=df.loc[df['Election Year'] == \"2010\"]\n",
    "x_2010=(df3.groupby(['Party']).agg({'Votes': 'sum'}).reset_index())\n",
    "print('For 2010 Winning Part is')\n",
    "x_2010[x_2010['Votes']==x_2010['Votes'].max()]"
   ]
  },
  {
   "cell_type": "code",
   "execution_count": 479,
   "id": "41109384",
   "metadata": {},
   "outputs": [
    {
     "name": "stdout",
     "output_type": "stream",
     "text": [
      "For 2015 Winning Part is\n"
     ]
    },
    {
     "data": {
      "text/html": [
       "<div>\n",
       "<style scoped>\n",
       "    .dataframe tbody tr th:only-of-type {\n",
       "        vertical-align: middle;\n",
       "    }\n",
       "\n",
       "    .dataframe tbody tr th {\n",
       "        vertical-align: top;\n",
       "    }\n",
       "\n",
       "    .dataframe thead th {\n",
       "        text-align: right;\n",
       "    }\n",
       "</style>\n",
       "<table border=\"1\" class=\"dataframe\">\n",
       "  <thead>\n",
       "    <tr style=\"text-align: right;\">\n",
       "      <th></th>\n",
       "      <th>Party</th>\n",
       "      <th>Votes</th>\n",
       "    </tr>\n",
       "  </thead>\n",
       "  <tbody>\n",
       "    <tr>\n",
       "      <th>29</th>\n",
       "      <td>Bharatiya Janta Party</td>\n",
       "      <td>9308015</td>\n",
       "    </tr>\n",
       "  </tbody>\n",
       "</table>\n",
       "</div>"
      ],
      "text/plain": [
       "                    Party    Votes\n",
       "29  Bharatiya Janta Party  9308015"
      ]
     },
     "execution_count": 479,
     "metadata": {},
     "output_type": "execute_result"
    }
   ],
   "source": [
    "# Election Result 2015\n",
    "\n",
    "df3=df.loc[df['Election Year'] == \"2015\"]\n",
    "x_2015=df3.groupby(['Party']).agg({'Votes': 'sum'}).reset_index()\n",
    "print('For 2015 Winning Part is')\n",
    "x_2015[x_2015['Votes']==x_2015['Votes'].max()]"
   ]
  },
  {
   "cell_type": "code",
   "execution_count": 433,
   "id": "6d67d9d7",
   "metadata": {},
   "outputs": [],
   "source": [
    "#Q(c).Determine the top 8 parties at the state-level in each election in terms of getting the most votes."
   ]
  },
  {
   "cell_type": "code",
   "execution_count": 457,
   "id": "24558f92",
   "metadata": {},
   "outputs": [
    {
     "name": "stdout",
     "output_type": "stream",
     "text": [
      "Top 8 Party in 2005-Feb\n"
     ]
    },
    {
     "data": {
      "text/html": [
       "<div>\n",
       "<style scoped>\n",
       "    .dataframe tbody tr th:only-of-type {\n",
       "        vertical-align: middle;\n",
       "    }\n",
       "\n",
       "    .dataframe tbody tr th {\n",
       "        vertical-align: top;\n",
       "    }\n",
       "\n",
       "    .dataframe thead th {\n",
       "        text-align: right;\n",
       "    }\n",
       "</style>\n",
       "<table border=\"1\" class=\"dataframe\">\n",
       "  <thead>\n",
       "    <tr style=\"text-align: right;\">\n",
       "      <th></th>\n",
       "      <th>Party</th>\n",
       "      <th>Votes</th>\n",
       "    </tr>\n",
       "  </thead>\n",
       "  <tbody>\n",
       "    <tr>\n",
       "      <th>50</th>\n",
       "      <td>Rashtriya Janata Dal</td>\n",
       "      <td>6140223</td>\n",
       "    </tr>\n",
       "    <tr>\n",
       "      <th>20</th>\n",
       "      <td>Independent</td>\n",
       "      <td>3957945</td>\n",
       "    </tr>\n",
       "    <tr>\n",
       "      <th>27</th>\n",
       "      <td>Janata Dal (United)</td>\n",
       "      <td>3564930</td>\n",
       "    </tr>\n",
       "    <tr>\n",
       "      <th>37</th>\n",
       "      <td>Lok Jan Shakti Party</td>\n",
       "      <td>3091173</td>\n",
       "    </tr>\n",
       "    <tr>\n",
       "      <th>13</th>\n",
       "      <td>Bharatiya Janta Party</td>\n",
       "      <td>2686290</td>\n",
       "    </tr>\n",
       "    <tr>\n",
       "      <th>22</th>\n",
       "      <td>Indian National Congress</td>\n",
       "      <td>1223835</td>\n",
       "    </tr>\n",
       "    <tr>\n",
       "      <th>10</th>\n",
       "      <td>Bahujan Samaj Party</td>\n",
       "      <td>1080745</td>\n",
       "    </tr>\n",
       "    <tr>\n",
       "      <th>58</th>\n",
       "      <td>Samajwadi Party</td>\n",
       "      <td>658791</td>\n",
       "    </tr>\n",
       "  </tbody>\n",
       "</table>\n",
       "</div>"
      ],
      "text/plain": [
       "                       Party    Votes\n",
       "50      Rashtriya Janata Dal  6140223\n",
       "20               Independent  3957945\n",
       "27       Janata Dal (United)  3564930\n",
       "37      Lok Jan Shakti Party  3091173\n",
       "13     Bharatiya Janta Party  2686290\n",
       "22  Indian National Congress  1223835\n",
       "10       Bahujan Samaj Party  1080745\n",
       "58           Samajwadi Party   658791"
      ]
     },
     "execution_count": 457,
     "metadata": {},
     "output_type": "execute_result"
    }
   ],
   "source": [
    "print('Top 8 Party in 2005-Feb')\n",
    "x_2005_Feb.nlargest(8, 'Votes') "
   ]
  },
  {
   "cell_type": "code",
   "execution_count": 437,
   "id": "3e4bfe28",
   "metadata": {},
   "outputs": [
    {
     "name": "stdout",
     "output_type": "stream",
     "text": [
      "Top 8 Party in 2005-Oct\n"
     ]
    },
    {
     "data": {
      "text/html": [
       "<div>\n",
       "<style scoped>\n",
       "    .dataframe tbody tr th:only-of-type {\n",
       "        vertical-align: middle;\n",
       "    }\n",
       "\n",
       "    .dataframe tbody tr th {\n",
       "        vertical-align: top;\n",
       "    }\n",
       "\n",
       "    .dataframe thead th {\n",
       "        text-align: right;\n",
       "    }\n",
       "</style>\n",
       "<table border=\"1\" class=\"dataframe\">\n",
       "  <thead>\n",
       "    <tr style=\"text-align: right;\">\n",
       "      <th></th>\n",
       "      <th>Party</th>\n",
       "      <th>Votes</th>\n",
       "    </tr>\n",
       "  </thead>\n",
       "  <tbody>\n",
       "    <tr>\n",
       "      <th>45</th>\n",
       "      <td>Rashtriya Janata Dal</td>\n",
       "      <td>5525081</td>\n",
       "    </tr>\n",
       "    <tr>\n",
       "      <th>29</th>\n",
       "      <td>Janata Dal (United)</td>\n",
       "      <td>4819759</td>\n",
       "    </tr>\n",
       "    <tr>\n",
       "      <th>14</th>\n",
       "      <td>Bharatiya Janta Party</td>\n",
       "      <td>3686720</td>\n",
       "    </tr>\n",
       "    <tr>\n",
       "      <th>36</th>\n",
       "      <td>Lok Jan Shakti Party</td>\n",
       "      <td>2615901</td>\n",
       "    </tr>\n",
       "    <tr>\n",
       "      <th>21</th>\n",
       "      <td>Independent</td>\n",
       "      <td>2065744</td>\n",
       "    </tr>\n",
       "    <tr>\n",
       "      <th>23</th>\n",
       "      <td>Indian National Congress</td>\n",
       "      <td>1435449</td>\n",
       "    </tr>\n",
       "    <tr>\n",
       "      <th>10</th>\n",
       "      <td>Bahujan Samaj Party</td>\n",
       "      <td>981464</td>\n",
       "    </tr>\n",
       "    <tr>\n",
       "      <th>54</th>\n",
       "      <td>Samajwadi Party</td>\n",
       "      <td>594266</td>\n",
       "    </tr>\n",
       "  </tbody>\n",
       "</table>\n",
       "</div>"
      ],
      "text/plain": [
       "                       Party    Votes\n",
       "45      Rashtriya Janata Dal  5525081\n",
       "29       Janata Dal (United)  4819759\n",
       "14     Bharatiya Janta Party  3686720\n",
       "36      Lok Jan Shakti Party  2615901\n",
       "21               Independent  2065744\n",
       "23  Indian National Congress  1435449\n",
       "10       Bahujan Samaj Party   981464\n",
       "54           Samajwadi Party   594266"
      ]
     },
     "execution_count": 437,
     "metadata": {},
     "output_type": "execute_result"
    }
   ],
   "source": [
    "print('Top 8 Party in 2005-Oct')\n",
    "x_2005_Oct.nlargest(8, 'Votes')"
   ]
  },
  {
   "cell_type": "code",
   "execution_count": 305,
   "id": "6a5bb1ca",
   "metadata": {},
   "outputs": [
    {
     "name": "stdout",
     "output_type": "stream",
     "text": [
      "Top 8 Party in 2010\n"
     ]
    },
    {
     "data": {
      "text/html": [
       "<div>\n",
       "<style scoped>\n",
       "    .dataframe tbody tr th:only-of-type {\n",
       "        vertical-align: middle;\n",
       "    }\n",
       "\n",
       "    .dataframe tbody tr th {\n",
       "        vertical-align: top;\n",
       "    }\n",
       "\n",
       "    .dataframe thead th {\n",
       "        text-align: right;\n",
       "    }\n",
       "</style>\n",
       "<table border=\"1\" class=\"dataframe\">\n",
       "  <thead>\n",
       "    <tr style=\"text-align: right;\">\n",
       "      <th></th>\n",
       "      <th>Party</th>\n",
       "      <th>Votes</th>\n",
       "    </tr>\n",
       "  </thead>\n",
       "  <tbody>\n",
       "    <tr>\n",
       "      <th>43</th>\n",
       "      <td>Janata Dal (United)</td>\n",
       "      <td>6561906</td>\n",
       "    </tr>\n",
       "    <tr>\n",
       "      <th>69</th>\n",
       "      <td>Rashtriya Janata Dal</td>\n",
       "      <td>5475656</td>\n",
       "    </tr>\n",
       "    <tr>\n",
       "      <th>26</th>\n",
       "      <td>Bharatiya Janta Party</td>\n",
       "      <td>4790436</td>\n",
       "    </tr>\n",
       "    <tr>\n",
       "      <th>35</th>\n",
       "      <td>Independent</td>\n",
       "      <td>3842812</td>\n",
       "    </tr>\n",
       "    <tr>\n",
       "      <th>37</th>\n",
       "      <td>Indian National Congress</td>\n",
       "      <td>2431477</td>\n",
       "    </tr>\n",
       "    <tr>\n",
       "      <th>53</th>\n",
       "      <td>Lok Jan Shakti Party</td>\n",
       "      <td>1957232</td>\n",
       "    </tr>\n",
       "    <tr>\n",
       "      <th>16</th>\n",
       "      <td>Bahujan Samaj Party</td>\n",
       "      <td>933947</td>\n",
       "    </tr>\n",
       "    <tr>\n",
       "      <th>61</th>\n",
       "      <td>Nationalist Congress Party</td>\n",
       "      <td>528575</td>\n",
       "    </tr>\n",
       "  </tbody>\n",
       "</table>\n",
       "</div>"
      ],
      "text/plain": [
       "                         Party    Votes\n",
       "43         Janata Dal (United)  6561906\n",
       "69        Rashtriya Janata Dal  5475656\n",
       "26       Bharatiya Janta Party  4790436\n",
       "35                 Independent  3842812\n",
       "37    Indian National Congress  2431477\n",
       "53        Lok Jan Shakti Party  1957232\n",
       "16         Bahujan Samaj Party   933947\n",
       "61  Nationalist Congress Party   528575"
      ]
     },
     "execution_count": 305,
     "metadata": {},
     "output_type": "execute_result"
    }
   ],
   "source": [
    "print('Top 8 Party in 2010')\n",
    "x_2010.nlargest(8, 'Votes')"
   ]
  },
  {
   "cell_type": "code",
   "execution_count": 308,
   "id": "44679c6f",
   "metadata": {},
   "outputs": [
    {
     "name": "stdout",
     "output_type": "stream",
     "text": [
      "Top 8 Party in 2015\n"
     ]
    },
    {
     "data": {
      "text/html": [
       "<div>\n",
       "<style scoped>\n",
       "    .dataframe tbody tr th:only-of-type {\n",
       "        vertical-align: middle;\n",
       "    }\n",
       "\n",
       "    .dataframe tbody tr th {\n",
       "        vertical-align: top;\n",
       "    }\n",
       "\n",
       "    .dataframe thead th {\n",
       "        text-align: right;\n",
       "    }\n",
       "</style>\n",
       "<table border=\"1\" class=\"dataframe\">\n",
       "  <thead>\n",
       "    <tr style=\"text-align: right;\">\n",
       "      <th></th>\n",
       "      <th>Party</th>\n",
       "      <th>Votes</th>\n",
       "    </tr>\n",
       "  </thead>\n",
       "  <tbody>\n",
       "    <tr>\n",
       "      <th>29</th>\n",
       "      <td>Bharatiya Janta Party</td>\n",
       "      <td>9308015</td>\n",
       "    </tr>\n",
       "    <tr>\n",
       "      <th>118</th>\n",
       "      <td>Rashtriya Janata Dal</td>\n",
       "      <td>6995509</td>\n",
       "    </tr>\n",
       "    <tr>\n",
       "      <th>68</th>\n",
       "      <td>Janata Dal (United)</td>\n",
       "      <td>6416414</td>\n",
       "    </tr>\n",
       "    <tr>\n",
       "      <th>59</th>\n",
       "      <td>Independent</td>\n",
       "      <td>3580953</td>\n",
       "    </tr>\n",
       "    <tr>\n",
       "      <th>60</th>\n",
       "      <td>Indian National Congress</td>\n",
       "      <td>2539638</td>\n",
       "    </tr>\n",
       "    <tr>\n",
       "      <th>82</th>\n",
       "      <td>Lok Jan Shakti Party</td>\n",
       "      <td>1840834</td>\n",
       "    </tr>\n",
       "    <tr>\n",
       "      <th>123</th>\n",
       "      <td>Rashtriya Lok Samta Party</td>\n",
       "      <td>976787</td>\n",
       "    </tr>\n",
       "    <tr>\n",
       "      <th>57</th>\n",
       "      <td>Hindustani Awam Morcha (Secular)</td>\n",
       "      <td>864856</td>\n",
       "    </tr>\n",
       "  </tbody>\n",
       "</table>\n",
       "</div>"
      ],
      "text/plain": [
       "                                Party    Votes\n",
       "29              Bharatiya Janta Party  9308015\n",
       "118              Rashtriya Janata Dal  6995509\n",
       "68                Janata Dal (United)  6416414\n",
       "59                        Independent  3580953\n",
       "60           Indian National Congress  2539638\n",
       "82               Lok Jan Shakti Party  1840834\n",
       "123         Rashtriya Lok Samta Party   976787\n",
       "57   Hindustani Awam Morcha (Secular)   864856"
      ]
     },
     "execution_count": 308,
     "metadata": {},
     "output_type": "execute_result"
    }
   ],
   "source": [
    "print('Top 8 Party in 2015')\n",
    "x_2015.nlargest(8, 'Votes')"
   ]
  },
  {
   "cell_type": "code",
   "execution_count": 478,
   "id": "84312d97",
   "metadata": {},
   "outputs": [
    {
     "name": "stdout",
     "output_type": "stream",
     "text": [
      "<class 'pandas.core.frame.DataFrame'>\n",
      "Int64Index: 3193 entries, 9108 to 12300\n",
      "Data columns (total 8 columns):\n",
      " #   Column         Non-Null Count  Dtype \n",
      "---  ------         --------------  ----- \n",
      " 0   Election Year  3193 non-null   object\n",
      " 1   Position       3193 non-null   int64 \n",
      " 2   Name           3193 non-null   object\n",
      " 3   Votes          3193 non-null   int64 \n",
      " 4   Votes %        3193 non-null   object\n",
      " 5   Party          3193 non-null   object\n",
      " 6   AC name        3193 non-null   object\n",
      " 7   AC No          3193 non-null   int64 \n",
      "dtypes: int64(3), object(5)\n",
      "memory usage: 224.5+ KB\n"
     ]
    }
   ],
   "source": [
    "df3=df.loc[df['Election Year'] == \"2005-Feb\"]\n",
    "df3.info()"
   ]
  },
  {
   "cell_type": "code",
   "execution_count": null,
   "id": "ed1bc633",
   "metadata": {},
   "outputs": [],
   "source": [
    "#Q.1(b)- determine the list of swing seats for the state. A swing seat is a constituencywhich has a different winner in every election. The elections are held in the order2005-Feb, 2005-Oct, 2010 and 2015"
   ]
  },
  {
   "cell_type": "code",
   "execution_count": 482,
   "id": "e8cd1069",
   "metadata": {},
   "outputs": [
    {
     "data": {
      "text/plain": [
       "Index(['Election Year', 'Position', 'Name', 'Votes', 'Votes %', 'Party',\n",
       "       'AC name', 'AC No'],\n",
       "      dtype='object')"
      ]
     },
     "execution_count": 482,
     "metadata": {},
     "output_type": "execute_result"
    }
   ],
   "source": [
    "df.columns"
   ]
  },
  {
   "cell_type": "code",
   "execution_count": 508,
   "id": "dcf4bd68",
   "metadata": {},
   "outputs": [
    {
     "data": {
      "text/html": [
       "<div>\n",
       "<style scoped>\n",
       "    .dataframe tbody tr th:only-of-type {\n",
       "        vertical-align: middle;\n",
       "    }\n",
       "\n",
       "    .dataframe tbody tr th {\n",
       "        vertical-align: top;\n",
       "    }\n",
       "\n",
       "    .dataframe thead th {\n",
       "        text-align: right;\n",
       "    }\n",
       "</style>\n",
       "<table border=\"1\" class=\"dataframe\">\n",
       "  <thead>\n",
       "    <tr style=\"text-align: right;\">\n",
       "      <th></th>\n",
       "      <th>Election Year</th>\n",
       "      <th>AC name</th>\n",
       "      <th>Votes</th>\n",
       "      <th>Party</th>\n",
       "    </tr>\n",
       "  </thead>\n",
       "  <tbody>\n",
       "    <tr>\n",
       "      <th>0</th>\n",
       "      <td>2005-Feb</td>\n",
       "      <td>Agiaon (SC)</td>\n",
       "      <td>22389</td>\n",
       "      <td>10</td>\n",
       "    </tr>\n",
       "    <tr>\n",
       "      <th>1</th>\n",
       "      <td>2005-Feb</td>\n",
       "      <td>Alamnagar</td>\n",
       "      <td>37774</td>\n",
       "      <td>6</td>\n",
       "    </tr>\n",
       "    <tr>\n",
       "      <th>2</th>\n",
       "      <td>2005-Feb</td>\n",
       "      <td>Alauli (SC)</td>\n",
       "      <td>51152</td>\n",
       "      <td>5</td>\n",
       "    </tr>\n",
       "    <tr>\n",
       "      <th>3</th>\n",
       "      <td>2005-Feb</td>\n",
       "      <td>Alinagar</td>\n",
       "      <td>41299</td>\n",
       "      <td>7</td>\n",
       "    </tr>\n",
       "    <tr>\n",
       "      <th>4</th>\n",
       "      <td>2005-Feb</td>\n",
       "      <td>Amarpur</td>\n",
       "      <td>27948</td>\n",
       "      <td>8</td>\n",
       "    </tr>\n",
       "    <tr>\n",
       "      <th>...</th>\n",
       "      <td>...</td>\n",
       "      <td>...</td>\n",
       "      <td>...</td>\n",
       "      <td>...</td>\n",
       "    </tr>\n",
       "    <tr>\n",
       "      <th>961</th>\n",
       "      <td>2015</td>\n",
       "      <td>Valmiki Nagar</td>\n",
       "      <td>66860</td>\n",
       "      <td>9</td>\n",
       "    </tr>\n",
       "    <tr>\n",
       "      <th>962</th>\n",
       "      <td>2015</td>\n",
       "      <td>Warisnagar</td>\n",
       "      <td>92687</td>\n",
       "      <td>14</td>\n",
       "    </tr>\n",
       "    <tr>\n",
       "      <th>963</th>\n",
       "      <td>2015</td>\n",
       "      <td>Warsaliganj</td>\n",
       "      <td>85912</td>\n",
       "      <td>6</td>\n",
       "    </tr>\n",
       "    <tr>\n",
       "      <th>964</th>\n",
       "      <td>2015</td>\n",
       "      <td>Wazirganj</td>\n",
       "      <td>80107</td>\n",
       "      <td>12</td>\n",
       "    </tr>\n",
       "    <tr>\n",
       "      <th>965</th>\n",
       "      <td>2015</td>\n",
       "      <td>Ziradei</td>\n",
       "      <td>40760</td>\n",
       "      <td>10</td>\n",
       "    </tr>\n",
       "  </tbody>\n",
       "</table>\n",
       "<p>966 rows × 4 columns</p>\n",
       "</div>"
      ],
      "text/plain": [
       "    Election Year        AC name  Votes  Party\n",
       "0        2005-Feb    Agiaon (SC)  22389     10\n",
       "1        2005-Feb      Alamnagar  37774      6\n",
       "2        2005-Feb    Alauli (SC)  51152      5\n",
       "3        2005-Feb       Alinagar  41299      7\n",
       "4        2005-Feb        Amarpur  27948      8\n",
       "..            ...            ...    ...    ...\n",
       "961          2015  Valmiki Nagar  66860      9\n",
       "962          2015     Warisnagar  92687     14\n",
       "963          2015    Warsaliganj  85912      6\n",
       "964          2015      Wazirganj  80107     12\n",
       "965          2015        Ziradei  40760     10\n",
       "\n",
       "[966 rows x 4 columns]"
      ]
     },
     "execution_count": 508,
     "metadata": {},
     "output_type": "execute_result"
    }
   ],
   "source": [
    "m=df.groupby(['Election Year','AC name',]).agg({'Votes': 'max','Party': 'nunique'}).reset_index()\n",
    "m"
   ]
  }
 ],
 "metadata": {
  "kernelspec": {
   "display_name": "Python 3",
   "language": "python",
   "name": "python3"
  },
  "language_info": {
   "codemirror_mode": {
    "name": "ipython",
    "version": 3
   },
   "file_extension": ".py",
   "mimetype": "text/x-python",
   "name": "python",
   "nbconvert_exporter": "python",
   "pygments_lexer": "ipython3",
   "version": "3.8.8"
  }
 },
 "nbformat": 4,
 "nbformat_minor": 5
}
